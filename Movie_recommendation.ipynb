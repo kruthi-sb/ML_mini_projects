{
 "cells": [
  {
   "cell_type": "code",
   "execution_count": 2,
   "metadata": {},
   "outputs": [
    {
     "name": "stdout",
     "output_type": "stream",
     "text": [
      "[PhysicalDevice(name='/physical_device:GPU:0', device_type='GPU')]\n"
     ]
    }
   ],
   "source": [
    "import tensorflow as tf\n",
    "print(tf.config.list_physical_devices('GPU'))"
   ]
  },
  {
   "cell_type": "code",
   "execution_count": 7,
   "metadata": {},
   "outputs": [],
   "source": [
    "import numpy as np"
   ]
  },
  {
   "cell_type": "markdown",
   "metadata": {},
   "source": [
    "# Auto Diff\n",
    "Implementation"
   ]
  },
  {
   "cell_type": "code",
   "execution_count": 66,
   "metadata": {},
   "outputs": [],
   "source": [
    "# define the varaibles\n",
    "# y = w*x\n",
    "\n",
    "# assign initial weight\n",
    "w = tf.Variable(5.0)\n",
    "x = 1.0 # feature\n",
    "y = 4.0 # target \n",
    "alpha = 0.1 # learning rate"
   ]
  },
  {
   "cell_type": "code",
   "execution_count": 67,
   "metadata": {},
   "outputs": [],
   "source": [
    "def gradient_descent(w, x, y, alpha, iterations):\n",
    "    w_vals = []\n",
    "    costJ_vals = []\n",
    "    for i in range(iterations):\n",
    "        # to record operations for automatic differentiation\n",
    "        with tf.GradientTape() as tape:\n",
    "            fwb = w*x #f(x)\n",
    "            costJ = (fwb - y)**2 #J(w)\n",
    "\n",
    "        # calculate the gradient of the cost function with respect to w\n",
    "        [dJdw] = tape.gradient(costJ, [w]) \n",
    "\n",
    "        # print the values of w and J(w) at each iteration\n",
    "        print('w: ', w.numpy().round(5), 'J(w): ', costJ.numpy().round(5))\n",
    "\n",
    "        # store the values in each iteration in lists\n",
    "        w_vals.append(w.numpy())\n",
    "        costJ_vals.append(costJ.numpy())\n",
    "\n",
    "        # simultaneous update of w\n",
    "        w.assign_add(-alpha * dJdw)\n",
    "    return w_vals, costJ_vals"
   ]
  },
  {
   "cell_type": "code",
   "execution_count": 68,
   "metadata": {},
   "outputs": [
    {
     "name": "stdout",
     "output_type": "stream",
     "text": [
      "w:  5.0 J(w):  1.0\n",
      "w:  4.8 J(w):  0.64\n",
      "w:  4.64 J(w):  0.4096\n",
      "w:  4.512 J(w):  0.26214\n",
      "w:  4.4096 J(w):  0.16777\n",
      "w:  4.32768 J(w):  0.10737\n",
      "w:  4.26214 J(w):  0.06872\n",
      "w:  4.20972 J(w):  0.04398\n",
      "w:  4.16777 J(w):  0.02815\n",
      "w:  4.13422 J(w):  0.01801\n"
     ]
    }
   ],
   "source": [
    "w_vals, costJ_vals = gradient_descent(w, x, y, alpha, iterations=10)"
   ]
  },
  {
   "cell_type": "markdown",
   "metadata": {},
   "source": [
    "Note that the cost function is reducing in each iteration."
   ]
  },
  {
   "cell_type": "code",
   "execution_count": 69,
   "metadata": {},
   "outputs": [
    {
     "data": {
      "image/png": "[encoded data removed]",
      "text/plain": [
       "<Figure size 640x480 with 1 Axes>"
      ]
     },
     "metadata": {},
     "output_type": "display_data"
    }
   ],
   "source": [
    "# visualize the results using a plot\n",
    "import matplotlib.pyplot as plt\n",
    "plt.plot(w_vals, costJ_vals, 'r-')\n",
    "plt.xlabel('w')\n",
    "plt.ylabel('J(w)')\n",
    "plt.show()"
   ]
  },
  {
   "cell_type": "code",
   "execution_count": null,
   "metadata": {},
   "outputs": [],
   "source": []
  }
 ],
 "metadata": {
  "kernelspec": {
   "display_name": "tf_gpu",
   "language": "python",
   "name": "python3"
  },
  "language_info": {
   "codemirror_mode": {
    "name": "ipython",
    "version": 3
   },
   "file_extension": ".py",
   "mimetype": "text/x-python",
   "name": "python",
   "nbconvert_exporter": "python",
   "pygments_lexer": "ipython3",
   "version": "3.9.18"
  }
 },
 "nbformat": 4,
 "nbformat_minor": 2
}

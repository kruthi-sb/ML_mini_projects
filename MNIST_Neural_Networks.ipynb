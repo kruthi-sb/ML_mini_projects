{
 "cells": [
  {
   "attachments": {},
   "cell_type": "markdown",
   "metadata": {},
   "source": [
    "# Classification of handwritten digits using a neural network"
   ]
  },
  {
   "cell_type": "markdown",
   "metadata": {},
   "source": [
    "## Imports"
   ]
  },
  {
   "cell_type": "code",
   "execution_count": 1,
   "metadata": {},
   "outputs": [],
   "source": [
    "# imports\n",
    "import tensorflow as tf\n",
    "from tensorflow.keras.layers import Dense, Flatten\n",
    "from tensorflow.keras import Sequential\n",
    "from tensorflow.keras.activations import sigmoid\n",
    "from tensorflow.keras.activations import relu\n",
    "from tensorflow.keras.losses import BinaryCrossentropy\n",
    "from sklearn.metrics import accuracy_score"
   ]
  },
  {
   "attachments": {},
   "cell_type": "markdown",
   "metadata": {},
   "source": [
    "## Fetch the data set"
   ]
  },
  {
   "cell_type": "code",
   "execution_count": 2,
   "metadata": {},
   "outputs": [
    {
     "data": {
      "text/plain": [
       "dict_keys(['data', 'target', 'frame', 'categories', 'feature_names', 'target_names', 'DESCR', 'details', 'url'])"
      ]
     },
     "execution_count": 2,
     "metadata": {},
     "output_type": "execute_result"
    }
   ],
   "source": [
    "import pandas as pd\n",
    "import numpy as np\n",
    "from sklearn.datasets import fetch_openml #fetch_openml is used to fetch the data from openml.org\n",
    "mnist = fetch_openml('mnist_784', version=1, parser='pandas') #parser='pandas' is used to convert the data into pandas dataframe\n",
    "mnist.keys() #to see the keys of the dataset"
   ]
  },
  {
   "attachments": {},
   "cell_type": "markdown",
   "metadata": {},
   "source": [
    "## Fetch the datasets from the Dictionary"
   ]
  },
  {
   "cell_type": "code",
   "execution_count": 3,
   "metadata": {},
   "outputs": [
    {
     "name": "stdout",
     "output_type": "stream",
     "text": [
      "X shape:  (70000, 784)\n",
      "y shape:  (70000,)\n",
      "available at:  https://www.openml.org/d/554\n",
      "target_names:  ['class']\n",
      "\n",
      "type of X:  <class 'pandas.core.frame.DataFrame'>\n",
      "type of y:  <class 'pandas.core.series.Series'>\n"
     ]
    }
   ],
   "source": [
    "X, y = mnist[\"data\"], mnist[\"target\"] #X is the feature matrix and y is the target vector\n",
    "descr = mnist[\"DESCR\"] #DESCR is the description of the dataset\n",
    "details = mnist[\"details\"] #details is the details of the dataset\n",
    "url = mnist[\"url\"] #url is the url of the dataset\n",
    "target_names = mnist[\"target_names\"]\n",
    "#print\n",
    "print(\"X shape: \", X.shape) #gives dimension of the feature matrix\n",
    "print(\"y shape: \", y.shape)\n",
    "print(\"available at: \", url)\n",
    "print(\"target_names: \", target_names)\n",
    "#print(\"DESCR: \", descr)\n",
    "#print(\"details: \", details)\n",
    "\n",
    "#print the type of X and y\n",
    "print(\"\\ntype of X: \", type(X))\n",
    "print(\"type of y: \", type(y))"
   ]
  },
  {
   "cell_type": "markdown",
   "metadata": {},
   "source": [
    "# Get info"
   ]
  },
  {
   "cell_type": "code",
   "execution_count": 4,
   "metadata": {},
   "outputs": [
    {
     "name": "stdout",
     "output_type": "stream",
     "text": [
      "----class run complete----\n",
      "-------------------------------------------------------------\n",
      "                    Data Info:\n",
      "-------------------------------------------------------------\n",
      "No. of samples: \t 70000\n",
      "No. of features: \t 784\n",
      "Feature Names: \t\t ['pixel1', 'pixel2', 'pixel3', 'pixel4', 'pixel5', 'pixel6', 'pixel7', 'pixel8', 'pixel9', 'pixel10', 'pixel11', 'pixel12', 'pixel13', 'pixel14', 'pixel15', 'pixel16', 'pixel17', 'pixel18', 'pixel19', 'pixel20', 'pixel21', 'pixel22', 'pixel23', 'pixel24', 'pixel25', 'pixel26'] ...truncated\n",
      "Targets: \t\t ['5', '0', '4', '1', '9', '2', '3', '6', '7', '8']\n",
      "Categories (10, object): ['0', '1', '2', '3', ..., '6', '7', '8', '9']\n",
      "Target Value Count: \t {'1': 7877, '7': 7293, '3': 7141, '2': 6990, '9': 6958, '0': 6903, '6': 6876, '8': 6825, '4': 6824, '5': 6313}\n",
      "Total Missing values: \t 0\n",
      "Outliers Detected: \t (2102602, [10, 116, 216, 254, 216, 9])\n",
      "Duplicates: \t\t 0\n",
      "Whether scaled? \t None\n",
      "-------------------------------------------------------------\n"
     ]
    }
   ],
   "source": [
    "from Clean_Data import CleanData\n",
    "cd = CleanData(X, y)\n",
    "cd.get_info()"
   ]
  },
  {
   "cell_type": "markdown",
   "metadata": {},
   "source": [
    "## Image"
   ]
  },
  {
   "cell_type": "code",
   "execution_count": 5,
   "metadata": {},
   "outputs": [
    {
     "data": {
      "image/png": "[encoded data removed]",
      "text/plain": [
       "<Figure size 640x480 with 1 Axes>"
      ]
     },
     "metadata": {},
     "output_type": "display_data"
    }
   ],
   "source": [
    "import matplotlib as mpl\n",
    "import matplotlib.pyplot as plt\n",
    "#plot the image from pixel intensities\n",
    "some_digit = X.iloc[2423] # get the some row of the feature matrix\n",
    "some_digit_image = some_digit.values.reshape(28, 28) #reshape the data into 28x28 matrix\n",
    "plt.imshow(some_digit_image, cmap = mpl.cm.binary) #plot the image using imshow\n",
    "plt.axis(\"off\") #turn off the axis\n",
    "plt.show()"
   ]
  },
  {
   "cell_type": "markdown",
   "metadata": {},
   "source": [
    "## Conversions"
   ]
  },
  {
   "cell_type": "code",
   "execution_count": 6,
   "metadata": {},
   "outputs": [
    {
     "name": "stdout",
     "output_type": "stream",
     "text": [
      "Target value:  5\n",
      "<class 'str'>\n"
     ]
    }
   ],
   "source": [
    "#get the target value of the first image\n",
    "print(\"Target value: \", y[0])\n",
    "print(type(y[0]))"
   ]
  },
  {
   "cell_type": "markdown",
   "metadata": {},
   "source": [
    "We see that label is not a number but a string. Let's convert it to a number since most ML algorithms expect numbers."
   ]
  },
  {
   "cell_type": "code",
   "execution_count": 7,
   "metadata": {},
   "outputs": [],
   "source": [
    "# astype is used to convert the data type of the array to the specified data type\n",
    "y = y.astype(np.uint8) # uint8 is the unsigned integer of 8 bits"
   ]
  },
  {
   "cell_type": "markdown",
   "metadata": {},
   "source": [
    "# Binary Classification of single digit"
   ]
  },
  {
   "cell_type": "markdown",
   "metadata": {},
   "source": [
    "## Class BinaryClassMnist"
   ]
  },
  {
   "cell_type": "code",
   "execution_count": 8,
   "metadata": {},
   "outputs": [],
   "source": [
    "# imports\n",
    "import tensorflow as tf\n",
    "from tensorflow.keras.layers import Dense\n",
    "from tensorflow.keras import Sequential\n",
    "from tensorflow.keras.activations import sigmoid\n",
    "from tensorflow.keras.activations import relu\n",
    "from tensorflow.keras.losses import BinaryCrossentropy\n",
    "from sklearn.metrics import accuracy_score                \n",
    "\n",
    "class BinaryClassMinst:\n",
    "\n",
    "    def __init__(self, X, y):\n",
    "        self.X = X\n",
    "        # convert y data types from string to int\n",
    "        self.y = y.astype(np.uint8)\n",
    "        #split the data into train and test\n",
    "        self.X_train, self.X_test, self.y_train, self.y_test = self.X[:60000], self.X[60000:], self.y[:60000], self.y[60000:] \n",
    "\n",
    "    def get_bin_test(self, digit = 5):\n",
    "        y_train_digit = (self.y_train == digit).astype(int)\n",
    "        y_test_digit = (self.y_test == digit).astype(int)\n",
    "        return y_train_digit, y_test_digit\n",
    "    \n",
    "    def train_predict(self, digit = 5, epochs = 3):\n",
    "\n",
    "        # get target varibles\n",
    "        y_train_digit, y_test_digit = self.get_bin_test(digit)\n",
    "\n",
    "        # build model\n",
    "        model = Sequential(\n",
    "            [Dense(units = 25, activation = relu, name = 'l1'),\n",
    "             Dense(units = 15, activation = relu, name = 'l2'),\n",
    "             Dense(units = 1, activation = sigmoid, name = 'l3')\n",
    "            ]\n",
    "        )\n",
    "\n",
    "        # complie model with loss and optimizer\n",
    "        model.compile(loss= BinaryCrossentropy(),\n",
    "                      optimizer=tf.keras.optimizers.Adam(0.001)\n",
    "                      )\n",
    "\n",
    "        # fit model with train and epochs (steps)\n",
    "        print(\"Fitting model...\")\n",
    "        model.fit(self.X_train, y_train_digit, epochs=epochs)\n",
    "\n",
    "        # get predictions\n",
    "        print(\"\\nPredicting digit...\")\n",
    "        y_proba_digit = model.predict(self.X_test)\n",
    "        threshold = 0.5\n",
    "        y_hat_digit = (y_proba_digit >= threshold).astype(int)\n",
    "        # get accuracy\n",
    "        score = accuracy_score(y_test_digit, y_hat_digit ).round(3) * 100\n",
    "        print(\"\\nAccuracy: \", score, \"%\")\n",
    "        \n",
    "        return score"
   ]
  },
  {
   "cell_type": "code",
   "execution_count": 9,
   "metadata": {},
   "outputs": [
    {
     "name": "stdout",
     "output_type": "stream",
     "text": [
      "Fitting model...\n"
     ]
    },
    {
     "name": "stdout",
     "output_type": "stream",
     "text": [
      "Epoch 1/2\n",
      "1875/1875 [==============================] - 5s 2ms/step - loss: 0.2375\n",
      "Epoch 2/2\n",
      "1875/1875 [==============================] - 4s 2ms/step - loss: 0.0599\n",
      "\n",
      "Predicting digit...\n",
      "313/313 [==============================] - 1s 1ms/step\n",
      "\n",
      "Accuracy:  98.5 %\n"
     ]
    },
    {
     "data": {
      "text/plain": [
       "98.5"
      ]
     },
     "execution_count": 9,
     "metadata": {},
     "output_type": "execute_result"
    }
   ],
   "source": [
    "bcm = BinaryClassMinst(X, y)\n",
    "bcm.train_predict(digit = 8, epochs=2)"
   ]
  },
  {
   "cell_type": "markdown",
   "metadata": {},
   "source": [
    "## Separate execution"
   ]
  },
  {
   "cell_type": "markdown",
   "metadata": {},
   "source": [
    "### Create train and test sets\n",
    "Since the dataset is already shuffled,      \n",
    "we can directly split it into a training set (first 60,000 images)        \n",
    "and a test set (last 10,000 images)."
   ]
  },
  {
   "cell_type": "code",
   "execution_count": 10,
   "metadata": {},
   "outputs": [],
   "source": [
    "#split the data into train and test\n",
    "X_train, X_test, y_train, y_test = X[:60000], X[60000:], y[:60000], y[60000:] "
   ]
  },
  {
   "cell_type": "markdown",
   "metadata": {},
   "source": [
    "### Select digit and create dataset"
   ]
  },
  {
   "cell_type": "code",
   "execution_count": 11,
   "metadata": {},
   "outputs": [],
   "source": [
    "# create test sets for binary classification of digit 7\n",
    "# set 0 for non-7 digits and 1 for digit 7 in test set\n",
    "y_train_7 = (y_train == 7).astype(int)\n",
    "y_test_7 = (y_test == 7).astype(int)"
   ]
  },
  {
   "cell_type": "code",
   "execution_count": 12,
   "metadata": {},
   "outputs": [
    {
     "name": "stdout",
     "output_type": "stream",
     "text": [
      "-------------------------------------------------------------\n",
      "                    Data Info:\n",
      "-------------------------------------------------------------\n",
      "No. of samples: \t 60000\n",
      "No. of features: \t 784\n",
      "Feature Names: \t\t ['pixel1', 'pixel2', 'pixel3', 'pixel4', 'pixel5', 'pixel6', 'pixel7', 'pixel8', 'pixel9', 'pixel10', 'pixel11', 'pixel12', 'pixel13', 'pixel14', 'pixel15', 'pixel16', 'pixel17', 'pixel18', 'pixel19', 'pixel20', 'pixel21', 'pixel22', 'pixel23', 'pixel24', 'pixel25', 'pixel26'] ...truncated\n",
      "Targets: \t\t [0 1]\n",
      "Target Value Count: \t {0: 53735, 1: 6265}\n",
      "Total Missing values: \t 0\n",
      "Outliers Detected: \t (1815839, [10, 116, 216, 254, 216, 9])\n",
      "Duplicates: \t\t 0\n",
      "Whether scaled? \t None\n",
      "-------------------------------------------------------------\n"
     ]
    }
   ],
   "source": [
    "cd = CleanData(X_train, y_train_7)\n",
    "cd.get_info()"
   ]
  },
  {
   "attachments": {},
   "cell_type": "markdown",
   "metadata": {},
   "source": [
    "### Model Building"
   ]
  },
  {
   "cell_type": "code",
   "execution_count": 13,
   "metadata": {},
   "outputs": [
    {
     "name": "stdout",
     "output_type": "stream",
     "text": [
      "Epoch 1/5\n",
      "1875/1875 [==============================] - 4s 2ms/step - loss: 0.1816\n",
      "Epoch 2/5\n",
      "1875/1875 [==============================] - 3s 2ms/step - loss: 0.0426\n",
      "Epoch 3/5\n",
      "1875/1875 [==============================] - 3s 2ms/step - loss: 0.0335\n",
      "Epoch 4/5\n",
      "1875/1875 [==============================] - 4s 2ms/step - loss: 0.0292\n",
      "Epoch 5/5\n",
      "1875/1875 [==============================] - 4s 2ms/step - loss: 0.0250\n"
     ]
    },
    {
     "data": {
      "text/plain": [
       "<keras.callbacks.History at 0x20d9301f910>"
      ]
     },
     "execution_count": 13,
     "metadata": {},
     "output_type": "execute_result"
    }
   ],
   "source": [
    "from tensorflow.keras.layers import Dense\n",
    "from tensorflow.keras import Sequential\n",
    "from tensorflow.keras.activations import sigmoid\n",
    "from tensorflow.keras.activations import relu\n",
    "\n",
    "# build sequential model with 3 layers\n",
    "'''\n",
    "Dense: Just your regular densely-connected NN layer.\n",
    "Sequential: Sequential groups a linear stack of layers into a tf.keras.Model.\n",
    "sigmoid: Sigmoid activation function, sigmoid(x) = 1 / (1 + exp(-x)).\n",
    "relu: With default values, this returns the standard ReLU activation: max(x, 0), \n",
    "the element-wise maximum of 0 and the input tensor.\n",
    "'''\n",
    "\n",
    "model = Sequential(\n",
    "    [\n",
    "        Dense(units = 25, activation = relu, name = 'l1'),\n",
    "        Dense(units = 15, activation = relu, name = 'l2'),\n",
    "        Dense(units = 1, activation = sigmoid, name = 'l3'),\n",
    "    ]\n",
    ")\n",
    "\n",
    "# get the layers\n",
    "[layer1, layer2, layer3] = model.layers\n",
    "\n",
    "# compile the model using losses and optimizers\n",
    "from tensorflow.keras.losses import BinaryCrossentropy\n",
    "# BinaryCrossentropy: Computes the cross-entropy loss between true labels and predicted labels.\n",
    "model.compile(\n",
    "    loss=tf.keras.losses.BinaryCrossentropy(),\n",
    "    optimizer=tf.keras.optimizers.Adam(0.001),\n",
    ")\n",
    "\n",
    "# fit the model on training data and labels\n",
    "model.fit(\n",
    "    X_train, y_train_7,\n",
    "    epochs=5 # number of iterations\n",
    ")"
   ]
  },
  {
   "cell_type": "markdown",
   "metadata": {},
   "source": [
    "### Predictions"
   ]
  },
  {
   "cell_type": "code",
   "execution_count": 14,
   "metadata": {},
   "outputs": [
    {
     "name": "stdout",
     "output_type": "stream",
     "text": [
      "Shape of weights: (784, 25), Shape of bias: (25,)\n"
     ]
    }
   ],
   "source": [
    "# weight and bias of the first layer:\n",
    "W1, b1 = layer1.get_weights()\n",
    "print(f\"Shape of weights: {W1.shape}, Shape of bias: {b1.shape}\")"
   ]
  },
  {
   "cell_type": "code",
   "execution_count": 15,
   "metadata": {},
   "outputs": [
    {
     "name": "stdout",
     "output_type": "stream",
     "text": [
      "1875/1875 [==============================] - 4s 2ms/step\n"
     ]
    }
   ],
   "source": [
    "#predict the first number of the train set\n",
    "y_hat_7 = model.predict(X_train)\n",
    "threshold = 0.5\n",
    "binary_predictions = (y_hat_7 >= threshold).astype(int)"
   ]
  },
  {
   "cell_type": "code",
   "execution_count": 16,
   "metadata": {},
   "outputs": [
    {
     "name": "stdout",
     "output_type": "stream",
     "text": [
      "Predicted value:  [1]\n",
      "Actual value:  1\n",
      "(array([   15,    29,    38, ..., 59963, 59977, 59988], dtype=int64), array([0, 0, 0, ..., 0, 0, 0], dtype=int64))\n",
      "(array([   15,    29,    38, ..., 59963, 59977, 59988], dtype=int64),)\n",
      "\n",
      "Accuracy:  99.4 %\n"
     ]
    }
   ],
   "source": [
    "# random index prediction\n",
    "print(\"Predicted value: \", binary_predictions[38])\n",
    "print(\"Actual value: \", y_train_7[38])\n",
    "# indices of all 7s in predictions and actual\n",
    "print(np.where(binary_predictions == 1))\n",
    "print(np.where(y_train_7 == 1))\n",
    "# accuracy\n",
    "from sklearn.metrics import accuracy_score\n",
    "print(\"\\nAccuracy: \", accuracy_score(y_train_7, binary_predictions ).round(3) * 100, \"%\")"
   ]
  },
  {
   "cell_type": "markdown",
   "metadata": {},
   "source": [
    "# Working of activation functions"
   ]
  },
  {
   "cell_type": "markdown",
   "metadata": {},
   "source": [
    "## Sigmoid Activation Function:\n",
    "```sigmoid(x) = 1 / (1 + exp(-x))```        \n",
    "Applies the sigmoid activation function. For small values (<-5), sigmoid returns a value close to zero, and for large values (>5) the result of the function gets close to 1.\n",
    "\n",
    "Sigmoid is equivalent to a 2-element Softmax, where the second element is assumed to be zero. The sigmoid function always returns a value between 0 and 1."
   ]
  },
  {
   "cell_type": "code",
   "execution_count": 17,
   "metadata": {},
   "outputs": [
    {
     "data": {
      "image/png": "[encoded data removed]",
      "text/plain": [
       "<Figure size 500x300 with 1 Axes>"
      ]
     },
     "metadata": {},
     "output_type": "display_data"
    }
   ],
   "source": [
    "from tensorflow.keras.activations import sigmoid\n",
    "x = tf.linspace(-20,20,1000)\n",
    "#x = tf.constant([-100,-60, -40, -20, -1.0, 0.0, 1.0, 30, 40, 60, 100], dtype=float)\n",
    "g_x = sigmoid(x)\n",
    "#print(g_x)\n",
    "import matplotlib.pyplot as plt\n",
    "f = plt.figure(figsize=(5,3))\n",
    "plt.plot(x,g_x, color = 'r')\n",
    "plt.axhline(y=0.5, color='g', linestyle='--', label='Horizontal Line')\n",
    "plt.axvline(x=0, color='g', linestyle='--', label='Vertical Line')\n",
    "plt.title(\"Sigmoid activation function\")\n",
    "plt.xlabel(\"x\")\n",
    "plt.ylabel(\"sigmoid(x)\")\n",
    "plt.show()"
   ]
  },
  {
   "cell_type": "markdown",
   "metadata": {},
   "source": [
    "## ReLU Activation Function\n",
    "Applies the rectified linear unit activation function. \n",
    "With default values, this returns the standard ReLU activation:          \n",
    "```max(x, 0)```\n",
    "the element-wise maximum of 0 and the input tensor."
   ]
  },
  {
   "cell_type": "code",
   "execution_count": 18,
   "metadata": {},
   "outputs": [
    {
     "name": "stdout",
     "output_type": "stream",
     "text": [
      "[ 0.  0.  0.  5. 10.]\n"
     ]
    },
    {
     "data": {
      "image/png": "[encoded data removed]",
      "text/plain": [
       "<Figure size 400x200 with 1 Axes>"
      ]
     },
     "metadata": {},
     "output_type": "display_data"
    }
   ],
   "source": [
    "from tensorflow.keras.activations import relu\n",
    "x = tf.constant([-10, -5, 0.0, 5, 10], dtype = tf.float32)\n",
    "relu_x = relu(x).numpy()\n",
    "print(relu_x)\n",
    "plt.figure(figsize=(4,2))\n",
    "plt.plot(x,relu_x, color = 'r')\n",
    "plt.axvline(x=0, color='g', linestyle='--', label='Vertical Line')\n",
    "plt.title(\"Relu activation function\")\n",
    "plt.xlabel(\"x\")\n",
    "plt.ylabel(\"relu(x)\")\n",
    "plt.show()\n"
   ]
  },
  {
   "cell_type": "markdown",
   "metadata": {},
   "source": [
    "## Linear Activation Functions:\n",
    "returns input unmodified."
   ]
  },
  {
   "cell_type": "code",
   "execution_count": 19,
   "metadata": {},
   "outputs": [
    {
     "name": "stdout",
     "output_type": "stream",
     "text": [
      "[-3. -1.  0.  1.  3.]\n"
     ]
    },
    {
     "data": {
      "image/png": "[encoded data removed]",
      "text/plain": [
       "<Figure size 300x200 with 1 Axes>"
      ]
     },
     "metadata": {},
     "output_type": "display_data"
    }
   ],
   "source": [
    "from tensorflow.keras.activations import linear\n",
    "x = tf.constant([-3.0,-1.0, 0.0,1.0,3.0], dtype = tf.float32)\n",
    "linear_x = linear(x).numpy()\n",
    "print(linear_x)\n",
    "plt.figure(figsize=(3,2))\n",
    "plt.plot(x,linear_x, color = 'r')\n",
    "plt.axvline(x=0, color='g', linestyle='--', label='Vertical Line')\n",
    "plt.axhline(y=0, color='g', linestyle='--', label='Horizontal Line')\n",
    "plt.title(\"Linear activation function\")\n",
    "plt.xlabel(\"x\")\n",
    "plt.ylabel(\"linear(x)\")\n",
    "plt.show()"
   ]
  },
  {
   "cell_type": "markdown",
   "metadata": {},
   "source": [
    "# Multiclass classification with neural networks"
   ]
  },
  {
   "cell_type": "markdown",
   "metadata": {},
   "source": [
    "## Imports and Preprocessing"
   ]
  },
  {
   "cell_type": "code",
   "execution_count": 2,
   "metadata": {},
   "outputs": [
    {
     "name": "stdout",
     "output_type": "stream",
     "text": [
      "784\n"
     ]
    }
   ],
   "source": [
    "import numpy as np\n",
    "import tensorflow as tf\n",
    "from tensorflow.keras.datasets import mnist\n",
    "from tensorflow.keras.models import Sequential\n",
    "from tensorflow.keras.layers import Dense, Flatten\n",
    "from tensorflow.keras.utils import to_categorical\n",
    "\n",
    "# Load and preprocess the data\n",
    "# This is a dataset of 60,000 28x28 grayscale images of the 10 digits,\n",
    "# along with a test set of 10,000 images.\n",
    "# x_train is a numpy array of 28 rows. Each row consists of 28 values.\n",
    "# so, there are 28x28 = 784 values representing intensities of 784 pixels.\n",
    "(x_train, y_train), (x_test, y_test) = mnist.load_data()\n",
    "\n",
    "# Normalize the pixel values to be in the range [0, 1]\n",
    "# Neural Networks work better for small range values.\n",
    "# 255 is the highest pixel intensity value.\n",
    "x_train = x_train.astype('float32') / 255.0\n",
    "x_test = x_test.astype('float32') / 255.0\n",
    "\n",
    "# One-hot encode the labels\n",
    "# to_categorical function from utils will convert the target variable to\n",
    "# binary variables consisting of all 0s except for the class label for each row.\n",
    "# Here, 10 the no.of classes.\n",
    "y_train = to_categorical(y_train, num_classes=10)\n",
    "y_test = to_categorical(y_test, num_classes=10)\n"
   ]
  },
  {
   "cell_type": "markdown",
   "metadata": {},
   "source": [
    "## Build Model"
   ]
  },
  {
   "cell_type": "markdown",
   "metadata": {},
   "source": [
    "1. **Sequential Model:**\n",
    "It is a *plain stack of layers* where each layer takes exactly 1 input tensor(array) and outputs exactly 1 tensor. Here, the tensors outputed are also called \"*Activation Functions*\"(a bar).\n",
    "\n",
    "2. **Flatten Layer:**\n",
    "This is a layer to flatten the values 28x28 *2D matrix* into 784 values of *1D array*.\n",
    "Flattening the matrix helps feeding it to the subsequent layers.\n",
    "\n",
    "3. **Dense Layers:**\n",
    "Dense layer is the *fully connected layer* of neural network units. The number given (eg. 128, 64 and 10) are the no. of units presents in respective layers. \n",
    "    - The *first 2 layers* have activation function *'ReLU'* which stands for Rectified Linear Unit. This activation induces *non-linearity* in the model which indeed helps the model to learn. \n",
    "    - The *third layers* is fed with activation function *'softmax'* which converts the final layer's output to *probabilities*, making it suitable for multi class classification.         \n",
    "    \n",
    "4. **Compile the model:**\n",
    "We configure the model with *optimizer 'adam'* (for minimizing the cost) and *loss function 'categorical_crossentropy'* (the cost function J). We also specify that we want to track the accuracy of the model further.\n",
    "\n",
    "5. **Train the model:**\n",
    "The fit() is used to train the model with the train set with the *batch size* of 128. *Epochs* are the no of iterations or steps to carry out. *Validation split* - Fraction of the training data to be used as validation data. The model will set apart this fraction of the training data, will not train on it, and will evaluate the loss and any model metrics on this data at the end of each epoch.\n",
    "\n",
    "6. **Evaluate the model:**\n",
    "Evalutes the model on the test set and returns the *loss* and the *accuracy* score."
   ]
  },
  {
   "cell_type": "code",
   "execution_count": 21,
   "metadata": {},
   "outputs": [],
   "source": [
    "# Build the model\n",
    "model = Sequential()\n",
    "model.add(Flatten(input_shape=(28, 28)))  # Flatten the 28x28 images into a 1D array\n",
    "model.add(Dense(128, activation='relu'))\n",
    "model.add(Dense(64, activation='relu'))\n",
    "model.add(Dense(10, activation='softmax'))  # Output layer with 10 classes (digits 0-9)\n",
    "\n",
    "# Compile the model\n",
    "model.compile(optimizer='adam', loss='categorical_crossentropy', metrics=['accuracy'])"
   ]
  },
  {
   "cell_type": "code",
   "execution_count": 22,
   "metadata": {},
   "outputs": [
    {
     "name": "stdout",
     "output_type": "stream",
     "text": [
      "Model: \"sequential_2\"\n",
      "_________________________________________________________________\n",
      " Layer (type)                Output Shape              Param #   \n",
      "=================================================================\n",
      " flatten (Flatten)           (None, 784)               0         \n",
      "                                                                 \n",
      " dense (Dense)               (None, 128)               100480    \n",
      "                                                                 \n",
      " dense_1 (Dense)             (None, 64)                8256      \n",
      "                                                                 \n",
      " dense_2 (Dense)             (None, 10)                650       \n",
      "                                                                 \n",
      "=================================================================\n",
      "Total params: 109,386\n",
      "Trainable params: 109,386\n",
      "Non-trainable params: 0\n",
      "_________________________________________________________________\n"
     ]
    }
   ],
   "source": [
    "model.summary()"
   ]
  },
  {
   "cell_type": "markdown",
   "metadata": {},
   "source": [
    "## Train and Test"
   ]
  },
  {
   "cell_type": "code",
   "execution_count": 23,
   "metadata": {},
   "outputs": [
    {
     "name": "stdout",
     "output_type": "stream",
     "text": [
      "Epoch 1/3\n"
     ]
    },
    {
     "name": "stdout",
     "output_type": "stream",
     "text": [
      "422/422 [==============================] - 2s 4ms/step - loss: 0.3529 - accuracy: 0.9016 - val_loss: 0.1452 - val_accuracy: 0.9617\n",
      "Epoch 2/3\n",
      "422/422 [==============================] - 2s 4ms/step - loss: 0.1419 - accuracy: 0.9586 - val_loss: 0.1070 - val_accuracy: 0.9695\n",
      "Epoch 3/3\n",
      "422/422 [==============================] - 2s 4ms/step - loss: 0.1011 - accuracy: 0.9699 - val_loss: 0.0925 - val_accuracy: 0.9750\n"
     ]
    },
    {
     "data": {
      "text/plain": [
       "<keras.callbacks.History at 0x20d95fb38d0>"
      ]
     },
     "execution_count": 23,
     "metadata": {},
     "output_type": "execute_result"
    }
   ],
   "source": [
    "# Train the model\n",
    "batch_size = 128\n",
    "epochs = 3\n",
    "model.fit(x_train, y_train, batch_size=batch_size, epochs=epochs, validation_split=0.1)"
   ]
  },
  {
   "cell_type": "code",
   "execution_count": 24,
   "metadata": {},
   "outputs": [
    {
     "name": "stdout",
     "output_type": "stream",
     "text": [
      "79/79 [==============================] - 0s 2ms/step - loss: 0.0955 - accuracy: 0.9698\n",
      "\n",
      "Test loss: 0.09553337842226028\n",
      "Test accuracy: 96.98%\n"
     ]
    }
   ],
   "source": [
    "# Evaluate the model on the test set\n",
    "loss, accuracy = model.evaluate(x_test, y_test, batch_size=batch_size)\n",
    "\n",
    "print(\"\\nTest loss:\", loss)\n",
    "print(\"Test accuracy: %.2f%%\" % (accuracy * 100))"
   ]
  },
  {
   "cell_type": "code",
   "execution_count": null,
   "metadata": {},
   "outputs": [],
   "source": []
  }
 ],
 "metadata": {
  "kernelspec": {
   "display_name": "Python 3",
   "language": "python",
   "name": "python3"
  },
  "language_info": {
   "codemirror_mode": {
    "name": "ipython",
    "version": 3
   },
   "file_extension": ".py",
   "mimetype": "text/x-python",
   "name": "python",
   "nbconvert_exporter": "python",
   "pygments_lexer": "ipython3",
   "version": "3.11.1"
  },
  "orig_nbformat": 4,
  "vscode": {
   "interpreter": {
    "hash": "0058379c129e4629443e4d8323bec08f6392318539cc5f99608b31d35e1b8ca4"
   }
  }
 },
 "nbformat": 4,
 "nbformat_minor": 2
}

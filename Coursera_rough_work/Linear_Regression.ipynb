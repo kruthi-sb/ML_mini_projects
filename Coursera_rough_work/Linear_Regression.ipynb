{
 "cells": [
  {
   "cell_type": "code",
   "execution_count": 1,
   "metadata": {},
   "outputs": [],
   "source": [
    "def cal_cost(x,y,w,b,m):\n",
    "    cost_sum = 0    \n",
    "    \n",
    "    for i in range(m):\n",
    "        f = w*x[i] + b\n",
    "        cost = f - y[i]\n",
    "        cost_sum = cost_sum + cost\n",
    "    total_cost = (1/(2*m))*cost_sum\n",
    "    return total_cost\n",
    "\n",
    "def cal_gradient(x,y,w,b,m):\n",
    "    w_gradient = 0\n",
    "    b_gradient = 0\n",
    "\n",
    "    total_cost = cal_cost(x,y,w,b,m)\n",
    "\n",
    "    for i in range(m):\n",
    "        f = w*x[i] + b\n",
    "        w_gradient = w_gradient + (f - y[i])*x[i]\n",
    "        b_gradient = b_gradient + (f - y[i])\n",
    "    w_gradient = (1/m)*w_gradient\n",
    "    b_gradient = (1/m)*b_gradient\n",
    "    return w_gradient, b_gradient\n",
    "\n",
    "def gradient_descent(x,y,w,b,m,learning_rate):\n",
    "    w_gradient, b_gradient = cal_gradient(x,y,w,b,m)\n",
    "    w = w - learning_rate*w_gradient\n",
    "    b = b - learning_rate*b_gradient\n",
    "    return w, b\n",
    "\n",
    "def train(x,y,w,b,m,learning_rate,iteration):\n",
    "    for i in range(iteration):\n",
    "        w, b = gradient_descent(x,y,w,b,m,learning_rate)\n",
    "        if i%10 == 0:\n",
    "            print(\"iteration: \",i,\"cost: \",cal_cost(x,y,w,b,m))\n",
    "    return w, b\n"
   ]
  },
  {
   "cell_type": "code",
   "execution_count": 3,
   "metadata": {},
   "outputs": [],
   "source": [
    "\n"
   ]
  },
  {
   "cell_type": "code",
   "execution_count": null,
   "metadata": {},
   "outputs": [],
   "source": []
  }
 ],
 "metadata": {
  "kernelspec": {
   "display_name": "Python 3",
   "language": "python",
   "name": "python3"
  },
  "language_info": {
   "codemirror_mode": {
    "name": "ipython",
    "version": 3
   },
   "file_extension": ".py",
   "mimetype": "text/x-python",
   "name": "python",
   "nbconvert_exporter": "python",
   "pygments_lexer": "ipython3",
   "version": "3.11.1"
  },
  "orig_nbformat": 4
 },
 "nbformat": 4,
 "nbformat_minor": 2
}
